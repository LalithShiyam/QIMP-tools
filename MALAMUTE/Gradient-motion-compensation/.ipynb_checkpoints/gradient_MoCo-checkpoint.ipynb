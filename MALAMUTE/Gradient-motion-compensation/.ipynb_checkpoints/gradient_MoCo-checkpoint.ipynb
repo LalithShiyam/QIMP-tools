{
 "cells": [
  {
   "cell_type": "code",
   "execution_count": 37,
   "metadata": {},
   "outputs": [],
   "source": [
    "# Import necessary libraries \n",
    "\n",
    "import SimpleITK as sitk\n",
    "import numpy as np\n",
    "import matplotlib.pyplot as plt\n",
    "from tqdm import tqdm\n",
    "import os \n",
    "import fnmatch\n",
    "from os import walk\n",
    "import glob as glob\n",
    "import natsort\n",
    "import time as time\n",
    "from shutil import copyfile\n",
    "import shutil\n",
    "import argparse"
   ]
  },
  {
   "cell_type": "code",
   "execution_count": null,
   "metadata": {},
   "outputs": [],
   "source": [
    "# User input \n",
    "\n",
    "nii_img_pth   =    '/Users/lalith/Downloads/VIE-to-AMS/nifti/m000-102AC_FDG_AC_ID_cleared/'\n",
    "ref_img       =   '150_m000-f0009-m000-102AC_FDG_AC_ID_cleared.nii'     #  all other images beyond this time-point will be considered as a source image\n",
    "nifti_files   =   glob.glob(os.path.join('*f*.nii')) # change the wild-card\n",
    "\n"
   ]
  },
  {
   "cell_type": "code",
   "execution_count": 34,
   "metadata": {},
   "outputs": [],
   "source": [
    "# Local functions\n",
    "\n",
    "def create_folder(path,folder_name):\n",
    "    if not os.path.exists(os.path.join(path,folder_name)):\n",
    "        os.mkdir(os.path.join(path,folder_name))\n",
    "        print(\"Directory \" , folder_name ,  \" Created \")\n",
    "    else:    \n",
    "        print(\"Directory \" , folder_name ,  \" already exists\")   \n",
    "        \n",
    "def wld_crd_move(src_pth,ds_pth,wld_crd):\n",
    "    os.chdir(src_pth)\n",
    "    for file in glob.glob(wld_crd):\n",
    "        shutil.move(file, ds_pth)\n",
    "        \n",
    "def apnd_str_to_list(str_list,str_to_apnd,src_pth,ds_pth):\n",
    "    for x in range(0,len(str_list)):\n",
    "        os.chdir(src_pth)\n",
    "        new_file   =   str_to_apnd+str_list[x]\n",
    "        shutil.move(str_list[x],os.path.join(ds_pth,new_file))\n",
    "        \n",
    "    "
   ]
  },
  {
   "cell_type": "code",
   "execution_count": 35,
   "metadata": {},
   "outputs": [
    {
     "name": "stdout",
     "output_type": "stream",
     "text": [
      "Directory  grad-img  Created \n"
     ]
    }
   ],
   "source": [
    "# Hard-coded variables \n",
    "\n",
    "grad_folder   =    'grad-img'\n",
    "grad_img_pth  =    os.path.join(nii_img_pth,grad_folder);\n",
    "os.chdir(nii_img_pth)\n",
    "create_folder(nii_img_pth,grad_folder)\n",
    "\n",
    "nifti_files   =   natsort.natsorted(nifti_files)\n"
   ]
  },
  {
   "cell_type": "code",
   "execution_count": 36,
   "metadata": {},
   "outputs": [
    {
     "name": "stderr",
     "output_type": "stream",
     "text": [
      "100%|██████████| 21/21 [00:04<00:00,  5.08it/s]\n",
      "100%|██████████| 12/12 [00:22<00:00,  1.84s/it]"
     ]
    },
    {
     "name": "stdout",
     "output_type": "stream",
     "text": [
      "Directory  moco-images  Created \n"
     ]
    },
    {
     "name": "stderr",
     "output_type": "stream",
     "text": [
      "\n"
     ]
    }
   ],
   "source": [
    "# Program start\n",
    "\n",
    "# calculation and writing of gradient images.\n",
    "\n",
    "for x in tqdm(range(0,len(nifti_files))):\n",
    "    os.chdir(nii_img_pth)\n",
    "    img       =   sitk.ReadImage(nifti_files[x])\n",
    "    grad_img  =   sitk.SobelEdgeDetection(img)\n",
    "    os.chdir(grad_img_pth)\n",
    "    grad_file =   'grad-'+nifti_files[x]\n",
    "    sitk.WriteImage(grad_img,grad_file)\n",
    "\n",
    "# calculation of the motion vectors and applying it to the original pet frames \n",
    "\n",
    "ref_frame_idx =   nifti_files.index(ref_img)\n",
    "fixed_img_pth =   os.path.join(grad_img_pth,'grad-'+nifti_files[ref_frame_idx])\n",
    "\n",
    "for x in tqdm(range((ref_frame_idx+1),len(nifti_files))):\n",
    "    moving_img_pth   =   os.path.join(grad_img_pth,'grad-'+nifti_files[x])\n",
    "    rsmpl_img_pth    =   os.path.join(nii_img_pth,nifti_files[x])\n",
    "    new_rsmpl_img    =   'moco-'+nifti_files[x]\n",
    "    tfm_file         =   str(x)+'-to-'+str(ref_frame_idx)+'.mat';\n",
    "    cmd_run_greedy   =   'greedy -d 3 -i '+fixed_img_pth+' '+moving_img_pth+' -o '+os.path.join(grad_img_pth,tfm_file)+' -a -m NMI -e 1 -n 20x20x20x20 -threads 8 -dof 6 -jitter 0.5'\n",
    "    cmd_run_rsmpl    =   'greedy -d 3 -rf '+fixed_img_pth+' -ri NN -r '+'-rm '+rsmpl_img_pth+' '+new_rsmpl_img+' -r '+os.path.join(grad_img_pth,tfm_file)\n",
    "    os.system(cmd_run_greedy)\n",
    "    os.system(cmd_run_rsmpl)\n",
    "    \n",
    "# creating a folder for moco images and moving them.\n",
    "\n",
    "os.chdir(nii_img_pth)\n",
    "create_folder(nii_img_pth,'moco-images')\n",
    "moco_img_pth  =   os.path.join(nii_img_pth,'moco-images')\n",
    "wld_crd_move(grad_img_pth,moco_img_pth,'moco-*')\n",
    "str_list=nifti_files[0:ref_frame_idx]\n",
    "apnd_str_to_list(str_list,'moco-',nii_img_pth,moco_img_pth)\n"
   ]
  },
  {
   "cell_type": "code",
   "execution_count": null,
   "metadata": {},
   "outputs": [],
   "source": []
  }
 ],
 "metadata": {
  "kernelspec": {
   "display_name": "Python 3",
   "language": "python",
   "name": "python3"
  },
  "language_info": {
   "codemirror_mode": {
    "name": "ipython",
    "version": 3
   },
   "file_extension": ".py",
   "mimetype": "text/x-python",
   "name": "python",
   "nbconvert_exporter": "python",
   "pygments_lexer": "ipython3",
   "version": "3.7.4"
  }
 },
 "nbformat": 4,
 "nbformat_minor": 4
}
