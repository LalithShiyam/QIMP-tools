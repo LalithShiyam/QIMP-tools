{
 "cells": [
  {
   "cell_type": "code",
   "execution_count": 9,
   "metadata": {},
   "outputs": [],
   "source": [
    "# Import necessary libraries \n",
    "\n",
    "import SimpleITK as sitk\n",
    "import numpy as np\n",
    "import matplotlib.pyplot as plt\n",
    "from tqdm import tqdm\n",
    "import os \n",
    "import fnmatch\n",
    "from os import walk\n",
    "import glob as glob\n",
    "import natsort\n",
    "import time as time\n",
    "from shutil import copyfile\n",
    "import shutil\n"
   ]
  },
  {
   "cell_type": "code",
   "execution_count": 10,
   "metadata": {},
   "outputs": [],
   "source": [
    "# Local functions\n",
    "def create_folder(path,folder_name):\n",
    "    if not os.path.exists(os.path.join(path,folder_name)):\n",
    "        os.mkdir(os.path.join(path,folder_name))\n",
    "        print(\"Directory \" , folder_name ,  \" Created \")\n",
    "    else:    \n",
    "        print(\"Directory \" , folder_name ,  \" already exists\")   "
   ]
  },
  {
   "cell_type": "code",
   "execution_count": 20,
   "metadata": {},
   "outputs": [
    {
     "name": "stdout",
     "output_type": "stream",
     "text": [
      "Directory  grad-img  already exists\n"
     ]
    }
   ],
   "source": [
    "# Hard-coded variables \n",
    "\n",
    "nii_img_pth   =    '/Users/lalith/Downloads/VIE-to-AMS/nifti/m000-101AB_FDGdyn_AC_ID_cleared'\n",
    "grad_folder   =    'grad-img'\n",
    "grad_img_pth  =    os.path.join(nii_img_pth,grad_folder);\n",
    "os.chdir(nii_img_pth)\n",
    "create_folder(nii_img_pth,grad_folder)\n",
    "nifti_files   =   glob.glob(os.path.join('*f*.nii')) # change the wild-card\n",
    "nifti_files   =   natsort.natsorted(nifti_files)\n",
    "     "
   ]
  },
  {
   "cell_type": "code",
   "execution_count": 24,
   "metadata": {},
   "outputs": [
    {
     "name": "stderr",
     "output_type": "stream",
     "text": [
      "100%|██████████| 21/21 [00:04<00:00,  5.01it/s]\n"
     ]
    }
   ],
   "source": [
    "# Program start\n",
    "\n",
    "# calculation and writing of gradient images.\n",
    "\n",
    "for x in tqdm(range(0,len(nifti_files))):\n",
    "    os.chdir(nii_img_pth)\n",
    "    img       =   sitk.ReadImage(nifti_files[x])\n",
    "    grad_img  =   sitk.SobelEdgeDetection(img)\n",
    "    os.chdir(grad_img_pth)\n",
    "    grad_file =   'grad-'+nifti_files[x]\n",
    "    sitk.WriteImage(grad_img,grad_file)\n",
    "\n"
   ]
  },
  {
   "cell_type": "code",
   "execution_count": 22,
   "metadata": {},
   "outputs": [
    {
     "data": {
      "text/plain": [
       "['8_m000-f0001-m000-101AB_FDGdyn_AC_ID_cleared.nii',\n",
       " '18_m000-f0002-m000-101AB_FDGdyn_AC_ID_cleared.nii',\n",
       " '23_m000-f0003-m000-101AB_FDGdyn_AC_ID_cleared.nii',\n",
       " '28_m000-f0004-m000-101AB_FDGdyn_AC_ID_cleared.nii',\n",
       " '35_m000-f0005-m000-101AB_FDGdyn_AC_ID_cleared.nii',\n",
       " '45_m000-f0006-m000-101AB_FDGdyn_AC_ID_cleared.nii',\n",
       " '55_m000-f0007-m000-101AB_FDGdyn_AC_ID_cleared.nii',\n",
       " '90_m000-f0008-m000-101AB_FDGdyn_AC_ID_cleared.nii',\n",
       " '150_m000-f0009-m000-101AB_FDGdyn_AC_ID_cleared.nii',\n",
       " '210_m000-f0010-m000-101AB_FDGdyn_AC_ID_cleared.nii',\n",
       " '270_m000-f0011-m000-101AB_FDGdyn_AC_ID_cleared.nii',\n",
       " '375_m000-f0012-m000-101AB_FDGdyn_AC_ID_cleared.nii',\n",
       " '525_m000-f0013-m000-101AB_FDGdyn_AC_ID_cleared.nii',\n",
       " '750_m000-f0014-m000-101AB_FDGdyn_AC_ID_cleared.nii',\n",
       " '1050_m000-f0015-m000-101AB_FDGdyn_AC_ID_cleared.nii',\n",
       " '1500_m000-f0016-m000-101AB_FDGdyn_AC_ID_cleared.nii',\n",
       " '2100_m000-f0017-m000-101AB_FDGdyn_AC_ID_cleared.nii',\n",
       " '2550_m000-f0018-m000-101AB_FDGdyn_AC_ID_cleared.nii',\n",
       " '2850_m000-f0019-m000-101AB_FDGdyn_AC_ID_cleared.nii',\n",
       " '3150_m000-f0020-m000-101AB_FDGdyn_AC_ID_cleared.nii',\n",
       " '3450_m000-f0021-m000-101AB_FDGdyn_AC_ID_cleared.nii']"
      ]
     },
     "execution_count": 22,
     "metadata": {},
     "output_type": "execute_result"
    }
   ],
   "source": [
    "nifti_files"
   ]
  },
  {
   "cell_type": "code",
   "execution_count": null,
   "metadata": {},
   "outputs": [],
   "source": []
  }
 ],
 "metadata": {
  "kernelspec": {
   "display_name": "Python 3",
   "language": "python",
   "name": "python3"
  },
  "language_info": {
   "codemirror_mode": {
    "name": "ipython",
    "version": 3
   },
   "file_extension": ".py",
   "mimetype": "text/x-python",
   "name": "python",
   "nbconvert_exporter": "python",
   "pygments_lexer": "ipython3",
   "version": "3.7.4"
  }
 },
 "nbformat": 4,
 "nbformat_minor": 4
}
