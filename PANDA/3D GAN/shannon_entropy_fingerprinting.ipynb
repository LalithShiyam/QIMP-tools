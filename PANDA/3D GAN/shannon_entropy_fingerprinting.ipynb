{
 "cells": [
  {
   "cell_type": "code",
   "execution_count": 42,
   "metadata": {},
   "outputs": [],
   "source": [
    "# Necessary libraries \n",
    "import SimpleITK as sitk\n",
    "import skimage as skimg\n",
    "import numpy as np\n",
    "import matplotlib.pyplot as plt\n",
    "from tqdm import tqdm\n",
    "import dicom2nifti\n",
    "import os \n",
    "import fnmatch\n"
   ]
  },
  {
   "cell_type": "code",
   "execution_count": 99,
   "metadata": {},
   "outputs": [],
   "source": [
    "# Hard-coded variables\n",
    "\n",
    "ref_img_path      =        '/Users/lalith/Documents/PANDA-gradient-images/Gradient-image-37.nii'\n",
    "grad_img_path     =        '/Users/lalith/Documents/PANDA-gradient-images/'\n",
    "src_se_list       =        []\n",
    "epsilon           =        1\n",
    "total_num_files   =        (len(fnmatch.filter(os.listdir(grad_img_path), '*.nii')))\n",
    "pet_frames        =        np.arange(1,total_num_files+1)"
   ]
  },
  {
   "cell_type": "code",
   "execution_count": 112,
   "metadata": {},
   "outputs": [
    {
     "name": "stderr",
     "output_type": "stream",
     "text": [
      "  0%|          | 0/37 [00:00<?, ?it/s]/Users/lalith/opt/anaconda3/lib/python3.7/site-packages/skimage/measure/simple_metrics.py:96: RuntimeWarning: divide by zero encountered in double_scalars\n",
      "  return np.sqrt(compare_mse(im_true, im_test)) / denom\n",
      "100%|██████████| 37/37 [02:48<00:00,  4.56s/it]\n"
     ]
    }
   ],
   "source": [
    "# The part that measures shannon-entropy for structural finger-printing\n",
    "\n",
    "itk_fixed=sitk.ReadImage(ref_img_path)\n",
    "for x in tqdm(range(1,(total_num_files+1))):\n",
    "    pass\n",
    "    itk_moved=sitk.ReadImage(grad_img_path+'/Gradient-image-'+str(x)+'.nii');\n",
    "    moved_img= sitk.GetArrayFromImage(itk_moved)\n",
    "    fixed_img=sitk.GetArrayFromImage(itk_fixed)\n",
    "    ssim_3d_sk = skimg.measure.compare_ssim(moved_img, fixed_img, multichannel=False, gaussian_weights=True, data_range=1.0, use_sample_covariance=False)\n",
    "    nrmse=skimg.measure.compare_nrmse(moved_img,fixed_img)\n",
    "    src_se=skimg.measure.shannon_entropy(moved_img, base=2)\n",
    "    src_se_list.append(src_se)\n",
    "    ref_se=skimg.measure.shannon_entropy(fixed_img, base=2)\n",
    "    \n",
    "src_shannon_val                             =     np.array(src_se_list)\n",
    "ref_shannon_val                             =     np.array(ref_se)\n",
    "similarity_shannon                          =     np.array(abs(ref_shannon_val-src_shannon_val))\n",
    "selected_frames                             =     similarity_shannon<epsilon # Lesser it is better similarity\n",
    "frames_where_gans_can_be_applied            =     np.where(selected_frames==True)\n"
   ]
  },
  {
   "cell_type": "code",
   "execution_count": 129,
   "metadata": {},
   "outputs": [
    {
     "data": {
      "text/plain": [
       "Text(0, 0.5, 'Absolute difference in shannon-entropy')"
      ]
     },
     "execution_count": 129,
     "metadata": {},
     "output_type": "execute_result"
    },
    {
     "data": {
      "image/png": "[encoded data removed]",
      "text/plain": [
       "<Figure size 432x288 with 1 Axes>"
      ]
     },
     "metadata": {
      "needs_background": "light"
     },
     "output_type": "display_data"
    }
   ],
   "source": [
    "# Plot them all.\n",
    "\n",
    "plt.title('PET frames eligible for cGANs: '+ str(frames_where_gans_can_be_applied))\n",
    "plt.plot(pet_frames,similarity_shannon)\n",
    "plt.plot(pet_frames[selected_frames],similarity_shannon[selected_frames],'.-',linewidth=4,markersize=15)\n",
    "plt.xlabel('PET frame numbers')\n",
    "plt.ylabel('Absolute difference in shannon-entropy')\n"
   ]
  },
  {
   "cell_type": "code",
   "execution_count": 120,
   "metadata": {},
   "outputs": [
    {
     "data": {
      "text/plain": [
       "array([0.8362143 , 0.72764433, 0.0750638 , 0.65571624, 0.63168269,\n",
       "       0.29802038, 0.51520365, 0.1604521 , 0.64820333, 0.18228584,\n",
       "       0.2396735 , 0.        ])"
      ]
     },
     "execution_count": 120,
     "metadata": {},
     "output_type": "execute_result"
    }
   ],
   "source": [
    "similarity_shannon[similarity_shannon<epsilon]"
   ]
  },
  {
   "cell_type": "code",
   "execution_count": 89,
   "metadata": {},
   "outputs": [
    {
     "ename": "TypeError",
     "evalue": "'range' object is not callable",
     "output_type": "error",
     "traceback": [
      "\u001b[0;31m---------------------------------------------------------------------------\u001b[0m",
      "\u001b[0;31mTypeError\u001b[0m                                 Traceback (most recent call last)",
      "\u001b[0;32m<ipython-input-89-52fa5f78dd17>\u001b[0m in \u001b[0;36m<module>\u001b[0;34m\u001b[0m\n\u001b[0;32m----> 1\u001b[0;31m \u001b[0mpet_frames\u001b[0m\u001b[0;34m(\u001b[0m\u001b[0mb\u001b[0m\u001b[0;34m[\u001b[0m\u001b[0;36m0\u001b[0m\u001b[0;34m,\u001b[0m\u001b[0;36m0\u001b[0m\u001b[0;34m]\u001b[0m\u001b[0;34m)\u001b[0m\u001b[0;34m\u001b[0m\u001b[0;34m\u001b[0m\u001b[0m\n\u001b[0m",
      "\u001b[0;31mTypeError\u001b[0m: 'range' object is not callable"
     ]
    }
   ],
   "source": [
    "pet_frames(b[0,0])"
   ]
  },
  {
   "cell_type": "code",
   "execution_count": null,
   "metadata": {},
   "outputs": [],
   "source": []
  }
 ],
 "metadata": {
  "kernelspec": {
   "display_name": "Python 3",
   "language": "python",
   "name": "python3"
  },
  "language_info": {
   "codemirror_mode": {
    "name": "ipython",
    "version": 3
   },
   "file_extension": ".py",
   "mimetype": "text/x-python",
   "name": "python",
   "nbconvert_exporter": "python",
   "pygments_lexer": "ipython3",
   "version": "3.7.4"
  }
 },
 "nbformat": 4,
 "nbformat_minor": 4
}
