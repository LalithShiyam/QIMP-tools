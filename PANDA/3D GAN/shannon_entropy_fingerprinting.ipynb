{
 "cells": [
  {
   "cell_type": "code",
   "execution_count": null,
   "metadata": {},
   "outputs": [],
   "source": [
    "# Necessary libraries \n",
    "\n",
    "import SimpleITK as sitk\n",
    "import skimage as skimg\n",
    "import numpy as np\n",
    "import matplotlib.pyplot as plt\n",
    "from tqdm import tqdm\n",
    "import dicom2nifti"
   ]
  },
  {
   "cell_type": "code",
   "execution_count": 11,
   "metadata": {},
   "outputs": [],
   "source": [
    "# Hard-coded variables\n",
    "\n",
    "ref_img_path     =        '/Users/lalith/Documents/PANDA/Gradient-image-37.nii'\n",
    "grad_img_path    =        '/Users/lalith/Documents/PANDA'\n",
    "src_se_list      =        []\n",
    "epsilon          =        1\n"
   ]
  },
  {
   "cell_type": "code",
   "execution_count": 12,
   "metadata": {},
   "outputs": [],
   "source": [
    "# The part that measures shannon-entropy for structural finger-printing\n",
    "\n",
    "itk_fixed=sitk.ReadImage(ref_img_path)\n",
    "for x in tqdm(range(1,38)):\n",
    "    pass\n",
    "    itk_moved=sitk.ReadImage(grad_img_path+'/Gradient-image-'+str(x)+'.nii');\n",
    "    moved_img= sitk.GetArrayFromImage(itk_moved)\n",
    "    fixed_img=sitk.GetArrayFromImage(itk_fixed)\n",
    "    ssim_3d_sk = skimg.measure.compare_ssim(moved_img, fixed_img, multichannel=False, gaussian_weights=True, data_range=1.0, use_sample_covariance=False)\n",
    "    nrmse=skimg.measure.compare_nrmse(moved_img,fixed_img)\n",
    "    src_se=skimg.measure.shannon_entropy(moved_img, base=2)\n",
    "    src_se_list.append(src_se)\n",
    "    ref_se=skimg.measure.shannon_entropy(fixed_img, base=2)\n",
    "    \n",
    "src_shannon_val                             =     np.array(src_se_list)\n",
    "ref_shannon_val                             =     np.array(ref_se)\n",
    "similarity_shannon                          =     abs(ref_shannon_val-src_shannon_val)\n",
    "selected_frames                             =     similarity_shannon<epsilon # Lesser it is better similarity\n",
    "frames_where_gans_can_be_applied            =     np.where(selected_frames==True)"
   ]
  },
  {
   "cell_type": "code",
   "execution_count": 4,
   "metadata": {},
   "outputs": [
    {
     "data": {
      "text/plain": [
       "Text(0.5, 1.0, '(array([25, 26, 27, 28, 29, 30, 31, 32, 33, 34, 35, 36]),)')"
      ]
     },
     "execution_count": 4,
     "metadata": {},
     "output_type": "execute_result"
    },
    {
     "data": {
      "image/png": "[encoded data removed]",
      "text/plain": [
       "<Figure size 432x288 with 1 Axes>"
      ]
     },
     "metadata": {
      "needs_background": "light"
     },
     "output_type": "display_data"
    }
   ],
   "source": [
    "# Plot them all.\n",
    "\n",
    "plt.title(frames_where_gans_can_be_applied)\n",
    "plt.plot(similarity_shannon)\n",
    "plt.plot(selected_frames)\n",
    "\n"
   ]
  }
 ],
 "metadata": {
  "kernelspec": {
   "display_name": "Python 3",
   "language": "python",
   "name": "python3"
  },
  "language_info": {
   "codemirror_mode": {
    "name": "ipython",
    "version": 3
   },
   "file_extension": ".py",
   "mimetype": "text/x-python",
   "name": "python",
   "nbconvert_exporter": "python",
   "pygments_lexer": "ipython3",
   "version": "3.7.4"
  }
 },
 "nbformat": 4,
 "nbformat_minor": 4
}
