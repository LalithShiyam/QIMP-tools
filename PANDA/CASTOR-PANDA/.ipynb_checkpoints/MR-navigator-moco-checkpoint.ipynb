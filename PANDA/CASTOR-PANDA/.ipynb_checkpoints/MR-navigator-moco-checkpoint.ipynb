{
 "cells": [
  {
   "cell_type": "code",
   "execution_count": 1,
   "metadata": {},
   "outputs": [],
   "source": [
    "# Import necessary libraries\n",
    "\n",
    "import SimpleITK as sitk\n",
    "import os\n",
    "import time\n",
    "import matplotlib.pyplot as plt\n",
    "import glob\n",
    "import natsort\n",
    "from ipywidgets import interact, fixed\n",
    "from IPython.display import clear_output \n",
    "from tqdm import tqdm\n",
    "%matplotlib inline"
   ]
  },
  {
   "cell_type": "code",
   "execution_count": 2,
   "metadata": {},
   "outputs": [],
   "source": [
    "# Input zone hardcoded variables\n",
    "\n",
    "path_of_mr_navigators           =               '/Users/lalith/Documents/GAN/MR-navigators' # change this\n",
    "wild_card_string                =               'Transform_MRnav_*nii'\n",
    "path_of_tfms                    =               '/Users/lalith/Documents/GAN/MR-navigators';"
   ]
  },
  {
   "cell_type": "code",
   "execution_count": 3,
   "metadata": {},
   "outputs": [
    {
     "data": {
      "text/plain": [
       "0"
      ]
     },
     "execution_count": 3,
     "metadata": {},
     "output_type": "execute_result"
    }
   ],
   "source": [
    "# Program start\n",
    "\n",
    "\n",
    "# Utility functions borrowed from Simple ITK's notebook\n",
    "\n",
    "from ipywidgets import interact, fixed\n",
    "from IPython.display import clear_output\n",
    "\n",
    "# Callback invoked by the interact IPython method for scrolling through the image stacks of\n",
    "# the two images (moving and fixed).\n",
    "def display_images(fixed_image_z, moving_image_z, fixed_npa, moving_npa):\n",
    "    # Create a figure with two subplots and the specified size.\n",
    "    plt.subplots(1,2,figsize=(10,8))\n",
    "    \n",
    "    # Draw the fixed image in the first subplot.\n",
    "    plt.subplot(1,2,1)\n",
    "    plt.imshow(fixed_npa[fixed_image_z,:,:],cmap=plt.cm.Greys_r);\n",
    "    plt.title('fixed image')\n",
    "    plt.axis('off')\n",
    "    \n",
    "    # Draw the moving image in the second subplot.\n",
    "    plt.subplot(1,2,2)\n",
    "    plt.imshow(moving_npa[moving_image_z,:,:],cmap=plt.cm.Greys_r);\n",
    "    plt.title('moving image')\n",
    "    plt.axis('off')\n",
    "    \n",
    "    plt.show()\n",
    "\n",
    "    \n",
    "# Callback invoked by the IPython interact method for scrolling and modifying the alpha blending\n",
    "# of an image stack of two images that occupy the same physical space. \n",
    "def display_images_with_alpha(image_z, alpha, fixed, moving):\n",
    "    img = (1.0 - alpha)*fixed[:,:,image_z] + alpha*moving[:,:,image_z] \n",
    "    plt.imshow(sitk.GetArrayViewFromImage(img),cmap=plt.cm.Greys_r);\n",
    "    plt.axis('off')\n",
    "    plt.show()\n",
    "    \n",
    "# Callback invoked when the StartEvent happens, sets up our new data.\n",
    "def start_plot():\n",
    "    global metric_values, multires_iterations\n",
    "    \n",
    "    metric_values = []\n",
    "    multires_iterations = []\n",
    "\n",
    "# Callback invoked when the EndEvent happens, do cleanup of data and figure.\n",
    "def end_plot():\n",
    "    global metric_values, multires_iterations\n",
    "    \n",
    "    del metric_values\n",
    "    del multires_iterations\n",
    "    # Close figure, we don't want to get a duplicate of the plot latter on.\n",
    "    plt.close()\n",
    "\n",
    "# Callback invoked when the IterationEvent happens, update our data and display new figure.\n",
    "def plot_values(registration_method):\n",
    "    global metric_values, multires_iterations\n",
    "    \n",
    "    metric_values.append(registration_method.GetMetricValue())                                       \n",
    "    # Clear the output area (wait=True, to reduce flickering), and plot current data\n",
    "    clear_output(wait=True)\n",
    "    # Plot the similarity metric values\n",
    "    plt.plot(metric_values, 'r')\n",
    "    plt.plot(multires_iterations, [metric_values[index] for index in multires_iterations], 'b*')\n",
    "    plt.xlabel('Iteration Number',fontsize=12)\n",
    "    plt.ylabel('Metric Value',fontsize=12)\n",
    "    plt.show()\n",
    "    \n",
    "# Callback invoked when the sitkMultiResolutionIterationEvent happens, update the index into the \n",
    "# metric_values list. \n",
    "def update_multires_iterations():\n",
    "    global metric_values, multires_iterations\n",
    "    multires_iterations.append(len(metric_values))\n",
    "    \n",
    "# Registration module\n",
    "\n",
    "registration_method = sitk.ImageRegistrationMethod()\n",
    "\n",
    "# Similarity metric settings.\n",
    "registration_method.SetMetricAsMattesMutualInformation(numberOfHistogramBins=50)\n",
    "registration_method.SetMetricSamplingStrategy(registration_method.RANDOM)\n",
    "registration_method.SetMetricSamplingPercentage(0.01)\n",
    "\n",
    "\n",
    "registration_method.SetInterpolator(sitk.sitkLinear)\n",
    "\n",
    "# Optimizer settings.\n",
    "registration_method.SetOptimizerAsGradientDescent(learningRate=1.0, numberOfIterations=100, convergenceMinimumValue=1e-6, convergenceWindowSize=10)\n",
    "registration_method.SetOptimizerScalesFromPhysicalShift()\n",
    "\n",
    "# Setup for the multi-resolution framework.            \n",
    "registration_method.SetShrinkFactorsPerLevel(shrinkFactors = [4,2,1])\n",
    "registration_method.SetSmoothingSigmasPerLevel(smoothingSigmas=[2,1,0])\n",
    "registration_method.SmoothingSigmasAreSpecifiedInPhysicalUnitsOn()\n",
    "\n",
    "\n",
    "# Connect all of the observers so that we can perform plotting during registration.\n",
    "registration_method.AddCommand(sitk.sitkStartEvent, start_plot)\n",
    "registration_method.AddCommand(sitk.sitkEndEvent, end_plot)\n",
    "registration_method.AddCommand(sitk.sitkMultiResolutionIterationEvent, update_multires_iterations) \n",
    "registration_method.AddCommand(sitk.sitkIterationEvent, lambda: plot_values(registration_method))\n",
    "\n",
    "\n",
    "    \n"
   ]
  },
  {
   "cell_type": "code",
   "execution_count": 6,
   "metadata": {},
   "outputs": [
    {
     "name": "stderr",
     "output_type": "stream",
     "text": [
      "  0%|          | 0/13 [00:00<?, ?it/s]"
     ]
    },
    {
     "name": "stdout",
     "output_type": "stream",
     "text": [
      "Processing Transform_MRnav_2_To_PET.nii...\n"
     ]
    },
    {
     "name": "stderr",
     "output_type": "stream",
     "text": [
      "\n"
     ]
    },
    {
     "ename": "NameError",
     "evalue": "name 'moving_img' is not defined",
     "output_type": "error",
     "traceback": [
      "\u001b[0;31m---------------------------------------------------------------------------\u001b[0m",
      "\u001b[0;31mNameError\u001b[0m                                 Traceback (most recent call last)",
      "\u001b[0;32m<ipython-input-6-771ee7ddada0>\u001b[0m in \u001b[0;36m<module>\u001b[0;34m\u001b[0m\n\u001b[1;32m     11\u001b[0m     \u001b[0mfixed_img\u001b[0m                   \u001b[0;34m=\u001b[0m               \u001b[0msitk\u001b[0m\u001b[0;34m.\u001b[0m\u001b[0mReadImage\u001b[0m\u001b[0;34m(\u001b[0m\u001b[0mpath_fixed_img\u001b[0m\u001b[0;34m)\u001b[0m\u001b[0;34m\u001b[0m\u001b[0;34m\u001b[0m\u001b[0m\n\u001b[1;32m     12\u001b[0m     initial_transform           =               sitk.CenteredTransformInitializer(fixed_img, \n\u001b[0;32m---> 13\u001b[0;31m                                                                                   \u001b[0mmoving_img\u001b[0m\u001b[0;34m,\u001b[0m\u001b[0;34m\u001b[0m\u001b[0;34m\u001b[0m\u001b[0m\n\u001b[0m\u001b[1;32m     14\u001b[0m                                                                                   \u001b[0msitk\u001b[0m\u001b[0;34m.\u001b[0m\u001b[0mEuler3DTransform\u001b[0m\u001b[0;34m(\u001b[0m\u001b[0;34m)\u001b[0m\u001b[0;34m,\u001b[0m\u001b[0;34m\u001b[0m\u001b[0;34m\u001b[0m\u001b[0m\n\u001b[1;32m     15\u001b[0m                                                                                   sitk.CenteredTransformInitializerFilter.GEOMETRY)\n",
      "\u001b[0;31mNameError\u001b[0m: name 'moving_img' is not defined"
     ]
    }
   ],
   "source": [
    "# Registration cycle \n",
    "\n",
    "os.chdir(path_of_mr_navigators) # go to the path of the mr navigators \n",
    "mr_nav_files                    =               (glob.glob(wild_card_string))\n",
    "mr_nav_files                    =               (natsort.natsorted(mr_nav_files))\n",
    "path_fixed_img                  =               os.path.join(path_of_mr_navigators,mr_nav_files[0])\n",
    "for i in tqdm(range(1,(len(mr_nav_files)))):\n",
    "    time.sleep(0.5)\n",
    "    print('Processing '+mr_nav_files[i]+'...')\n",
    "    path_moving_img             =               os.path.join(path_of_mr_navigators,mr_nav_files[i])\n",
    "    fixed_img                   =               sitk.ReadImage(path_fixed_img)\n",
    "    moving_img                  =               sitk.ReadImage(path_moving_img)\n",
    "    initial_transform           =               sitk.CenteredTransformInitializer(fixed_img, \n",
    "                                                                                  moving_img, \n",
    "                                                                                  sitk.Euler3DTransform(), \n",
    "                                                                                  sitk.CenteredTransformInitializerFilter.GEOMETRY)\n",
    "    registration_method.SetInitialTransform(initial_transform)\n",
    "    final_transform             =               registration_method.Execute(sitk.Cast(fixed_img, sitk.sitkFloat32),sitk.Cast(moving_img, sitk.sitkFloat32))\n",
    "    tfm_file_name               =               str(i+1)+'->'+str(1)+'.tfm'\n",
    "    print(final_transform)\n",
    "    sitk.WriteTransform(final_transform, os.path.join(path_of_tfms, tfm_file_name))"
   ]
  },
  {
   "cell_type": "code",
   "execution_count": 21,
   "metadata": {},
   "outputs": [
    {
     "name": "stdout",
     "output_type": "stream",
     "text": [
      "itk::simple::Transform\n",
      " AffineTransform (0x7fea914e3760)\n",
      "   RTTI typeinfo:   itk::AffineTransform<double, 3u>\n",
      "   Reference Count: 2\n",
      "   Modified Time: 27978736\n",
      "   Debug: Off\n",
      "   Object Name: \n",
      "   Observers: \n",
      "     none\n",
      "   Matrix: \n",
      "     0.962757 0.0109912 -0.00348754 \n",
      "     0.000213898 0.95945 0.00266308 \n",
      "     0.00326015 -0.0178245 0.929204 \n",
      "   Offset: [-3.31023, -0.0963924, 4.13743]\n",
      "   Center: [0, 0, 0]\n",
      "   Translation: [-3.31023, -0.0963924, 4.13743]\n",
      "   Inverse: \n",
      "     1.03867 -0.0118257 0.0039323 \n",
      "     -0.000221433 1.04221 -0.00298778 \n",
      "     -0.00364847 0.0200337 1.07612 \n",
      "   Singular: 0\n",
      "\n"
     ]
    }
   ],
   "source": [
    "print(final_transform)"
   ]
  },
  {
   "cell_type": "code",
   "execution_count": null,
   "metadata": {},
   "outputs": [],
   "source": []
  },
  {
   "cell_type": "code",
   "execution_count": null,
   "metadata": {},
   "outputs": [],
   "source": []
  }
 ],
 "metadata": {
  "kernelspec": {
   "display_name": "Python 3",
   "language": "python",
   "name": "python3"
  },
  "language_info": {
   "codemirror_mode": {
    "name": "ipython",
    "version": 3
   },
   "file_extension": ".py",
   "mimetype": "text/x-python",
   "name": "python",
   "nbconvert_exporter": "python",
   "pygments_lexer": "ipython3",
   "version": "3.7.4"
  }
 },
 "nbformat": 4,
 "nbformat_minor": 4
}
