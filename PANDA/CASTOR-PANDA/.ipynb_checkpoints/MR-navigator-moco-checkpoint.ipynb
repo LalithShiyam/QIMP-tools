{
 "cells": [
  {
   "cell_type": "code",
   "execution_count": 52,
   "metadata": {},
   "outputs": [],
   "source": [
    "# Import necessary libraries\n",
    "import imageio\n",
    "import SimpleITK as sitk\n",
    "import os\n",
    "import time\n",
    "import matplotlib\n",
    "import matplotlib.pyplot as plt\n",
    "import glob\n",
    "import natsort\n",
    "from ipywidgets import interact, fixed\n",
    "from IPython.display import clear_output \n",
    "from tqdm import tqdm\n",
    "%matplotlib inline\n",
    "import numpy as np\n",
    "matplotlib.use('agg')"
   ]
  },
  {
   "cell_type": "code",
   "execution_count": 59,
   "metadata": {},
   "outputs": [],
   "source": [
    "# Input zone hardcoded variables\n",
    "\n",
    "path_of_mr_navigators           =               '/Users/lalith/Documents/GAN/MR-navigators' # change this\n",
    "wild_card_string                =               'Transform_MRnav_*nii'\n",
    "path_of_tfms                    =               '/Users/lalith/Documents/GAN/MR-navigators';\n",
    "path_to_store_animation         =               '/Users/lalith/Documents/GAN/MR-navigators';"
   ]
  },
  {
   "cell_type": "code",
   "execution_count": 60,
   "metadata": {},
   "outputs": [],
   "source": [
    "# Program start\n",
    "\n",
    "\n",
    "# Utility functions borrowed from Simple ITK's notebook\n",
    "\n",
    "from ipywidgets import interact, fixed\n",
    "from IPython.display import clear_output\n",
    "\n",
    "# Callback invoked by the interact IPython method for scrolling through the image stacks of\n",
    "# the two images (moving and fixed).\n",
    "def display_images(fixed_image_z, moving_image_z, fixed_npa, moving_npa):\n",
    "    # Create a figure with two subplots and the specified size.\n",
    "    plt.subplots(1,2,figsize=(10,8))\n",
    "    \n",
    "    # Draw the fixed image in the first subplot.\n",
    "    plt.subplot(1,2,1)\n",
    "    plt.imshow(fixed_npa[fixed_image_z,:,:],cmap=plt.cm.Greys_r);\n",
    "    plt.title('fixed image')\n",
    "    plt.axis('off')\n",
    "    \n",
    "    # Draw the moving image in the second subplot.\n",
    "    plt.subplot(1,2,2)\n",
    "    plt.imshow(moving_npa[moving_image_z,:,:],cmap=plt.cm.Greys_r);\n",
    "    plt.title('moving image')\n",
    "    plt.axis('off')\n",
    "    \n",
    "    plt.show()\n",
    "\n",
    "# Paste the two given images together. On the left will be image1 and on the right image2.\n",
    "# image2 is also centered vertically in the combined image.\n",
    "def write_combined_image(image1, image2, horizontal_space, file_name):\n",
    "    combined_image = sitk.Image((image1.GetWidth() + image2.GetWidth() + horizontal_space,\n",
    "                                max(image1.GetHeight(), image2.GetHeight())), \n",
    "                                image1.GetPixelID(), image1.GetNumberOfComponentsPerPixel())\n",
    "    combined_image = sitk.Paste(combined_image, image1, image1.GetSize(), (0, 0), (0, 0))\n",
    "    combined_image = sitk.Paste(combined_image, image2, image2.GetSize(), (0, 0), \n",
    "                                (image1.GetWidth()+horizontal_space, \n",
    "                                 round((combined_image.GetHeight()-image2.GetHeight())/2)))\n",
    "    sitk.WriteImage(combined_image, file_name)\n",
    "\n",
    "\n",
    "    \n",
    "# Callback invoked by the IPython interact method for scrolling and modifying the alpha blending\n",
    "# of an image stack of two images that occupy the same physical space. \n",
    "def display_images_with_alpha(image_z, alpha, fixed, moving):\n",
    "    img = (1.0 - alpha)*fixed[:,:,image_z] + alpha*moving[:,:,image_z] \n",
    "    plt.imshow(sitk.GetArrayViewFromImage(img),cmap=plt.cm.Greys_r);\n",
    "    plt.axis('off')\n",
    "    plt.show()\n",
    "    \n",
    "# Callback invoked when the StartEvent happens, sets up our new data.\n",
    "def start_plot():\n",
    "    global metric_values, multires_iterations\n",
    "    \n",
    "    metric_values = []\n",
    "    multires_iterations = []\n",
    "\n",
    "# Callback invoked when the EndEvent happens, do cleanup of data and figure.\n",
    "def end_plot():\n",
    "    global metric_values, multires_iterations\n",
    "    \n",
    "    del metric_values\n",
    "    del multires_iterations\n",
    "    # Close figure, we don't want to get a duplicate of the plot latter on.\n",
    "    plt.close()\n",
    "\n",
    "# Callback invoked when the IterationEvent happens, update our data and display new figure.\n",
    "def plot_values(registration_method):\n",
    "    global metric_values, multires_iterations\n",
    "    \n",
    "    metric_values.append(registration_method.GetMetricValue())                                       \n",
    "    # Clear the output area (wait=True, to reduce flickering), and plot current data\n",
    "    clear_output(wait=True)\n",
    "    # Plot the similarity metric values\n",
    "    plt.plot(metric_values, 'r')\n",
    "    plt.plot(multires_iterations, [metric_values[index] for index in multires_iterations], 'b*')\n",
    "    plt.xlabel('Iteration Number',fontsize=12)\n",
    "    plt.ylabel('Metric Value',fontsize=12)\n",
    "    plt.show()\n",
    "    \n",
    "# Callback invoked when the sitkMultiResolutionIterationEvent happens, update the index into the \n",
    "# metric_values list. \n",
    "def update_multires_iterations():\n",
    "    global metric_values, multires_iterations\n",
    "    multires_iterations.append(len(metric_values))\n",
    "    \n",
    "# Callback invoked when the IterationEvent happens, update our data and \n",
    "# save an image that includes a visualization of the registered images and\n",
    "# the metric value plot.    \n",
    "\n",
    "def save_plot(registration_method, fixed, moving, transform, file_name_prefix):\n",
    "\n",
    "    #\n",
    "    # Plotting the similarity metric values, resolution changes are marked with \n",
    "    # a blue star.\n",
    "    #\n",
    "    global metric_values, multires_iterations\n",
    "    \n",
    "    metric_values.append(registration_method.GetMetricValue())                                       \n",
    "    # Plot the similarity metric values\n",
    "    plt.plot(metric_values, 'r')\n",
    "    plt.plot(multires_iterations, [metric_values[index] for index in multires_iterations], 'b*')\n",
    "    plt.xlabel('Iteration Number',fontsize=12)\n",
    "    plt.ylabel('Metric Value',fontsize=12)\n",
    "\n",
    "    # Convert the plot to a SimpleITK image (works with the agg matplotlib backend, doesn't work\n",
    "    # with the default - the relevant method is canvas_tostring_rgb())\n",
    "    plt.gcf().canvas.draw()    \n",
    "    plot_data = np.fromstring(plt.gcf().canvas.tostring_rgb(), dtype=np.uint8, sep='')\n",
    "    plot_data = plot_data.reshape(plt.gcf().canvas.get_width_height()[::-1] + (3,))\n",
    "    plot_image = sitk.GetImageFromArray(plot_data, isVector=True)\n",
    "\n",
    "    \n",
    "    #\n",
    "    # Extract the central axial slice from the two volumes, compose it using the transformation\n",
    "    # and alpha blend it.\n",
    "    #\n",
    "    alpha = 0.5\n",
    "    \n",
    "    central_index = round((fixed.GetSize())[2]/2)\n",
    "    \n",
    "    moving_transformed = sitk.Resample(moving, fixed, transform, \n",
    "                                       sitk.sitkLinear, 0.0, \n",
    "                                       moving_image.GetPixelIDValue())\n",
    "    # Extract the central slice in xy and alpha blend them                                   \n",
    "    combined = (1.0 - alpha)*fixed[:,:,central_index] + \\\n",
    "               alpha*moving_transformed[:,:,central_index]\n",
    "\n",
    "    # Assume the alpha blended images are isotropic and rescale intensity\n",
    "    # Values so that they are in [0,255], convert the grayscale image to\n",
    "    # color (r,g,b).\n",
    "    combined_slices_image = sitk.Cast(sitk.RescaleIntensity(combined), sitk.sitkUInt8)\n",
    "    combined_slices_image = sitk.Compose(combined_slices_image,\n",
    "                                         combined_slices_image,\n",
    "                                         combined_slices_image)\n",
    "    write_combined_image(combined_slices_image, plot_image, 0, \n",
    "                         file_name_prefix + str.format(str(len(metric_values)), '03d') + '.png')\n",
    "    \n",
    "    \n"
   ]
  },
  {
   "cell_type": "code",
   "execution_count": 61,
   "metadata": {},
   "outputs": [
    {
     "data": {
      "text/plain": [
       "0"
      ]
     },
     "execution_count": 61,
     "metadata": {},
     "output_type": "execute_result"
    }
   ],
   "source": [
    "# Registration module\n",
    "\n",
    "registration_method = sitk.ImageRegistrationMethod()\n",
    "\n",
    "# Similarity metric settings.\n",
    "registration_method.SetMetricAsMattesMutualInformation(numberOfHistogramBins=50)\n",
    "registration_method.SetMetricSamplingStrategy(registration_method.RANDOM)\n",
    "registration_method.SetMetricSamplingPercentage(0.01)\n",
    "\n",
    "\n",
    "registration_method.SetInterpolator(sitk.sitkLinear)\n",
    "\n",
    "# Optimizer settings.\n",
    "registration_method.SetOptimizerAsGradientDescent(learningRate=1.0, numberOfIterations=100, convergenceMinimumValue=1e-6, convergenceWindowSize=10)\n",
    "registration_method.SetOptimizerScalesFromPhysicalShift()\n",
    "\n",
    "# Setup for the multi-resolution framework.            \n",
    "registration_method.SetShrinkFactorsPerLevel(shrinkFactors = [4,2,1])\n",
    "registration_method.SetSmoothingSigmasPerLevel(smoothingSigmas=[2,1,0])\n",
    "registration_method.SmoothingSigmasAreSpecifiedInPhysicalUnitsOn()\n",
    "\n",
    "\n",
    "# Connect all of the observers so that we can perform plotting during registration.\n",
    "registration_method.AddCommand(sitk.sitkStartEvent, start_plot)\n",
    "registration_method.AddCommand(sitk.sitkEndEvent, end_plot)\n",
    "registration_method.AddCommand(sitk.sitkMultiResolutionIterationEvent, update_multires_iterations) \n"
   ]
  },
  {
   "cell_type": "code",
   "execution_count": 62,
   "metadata": {},
   "outputs": [
    {
     "name": "stderr",
     "output_type": "stream",
     "text": [
      "  0%|          | 0/13 [00:00<?, ?it/s]"
     ]
    },
    {
     "name": "stdout",
     "output_type": "stream",
     "text": [
      "Processing Transform_MRnav_2_To_PET.nii...\n"
     ]
    },
    {
     "name": "stderr",
     "output_type": "stream",
     "text": [
      "/Users/lalith/opt/anaconda3/lib/python3.7/site-packages/ipykernel_launcher.py:109: DeprecationWarning: The binary mode of fromstring is deprecated, as it behaves surprisingly on unicode inputs. Use frombuffer instead\n"
     ]
    },
    {
     "ename": "NameError",
     "evalue": "name 'moving_image' is not defined",
     "output_type": "error",
     "traceback": [
      "\u001b[0;31m---------------------------------------------------------------------------\u001b[0m",
      "\u001b[0;31mNameError\u001b[0m                                 Traceback (most recent call last)",
      "\u001b[0;32m<ipython-input-62-32bdde550a39>\u001b[0m in \u001b[0;36m<lambda>\u001b[0;34m()\u001b[0m\n\u001b[1;32m     16\u001b[0m                                                                                   sitk.CenteredTransformInitializerFilter.GEOMETRY)\n\u001b[1;32m     17\u001b[0m     \u001b[0mregistration_method\u001b[0m\u001b[0;34m.\u001b[0m\u001b[0mSetInitialTransform\u001b[0m\u001b[0;34m(\u001b[0m\u001b[0minitial_transform\u001b[0m\u001b[0;34m)\u001b[0m\u001b[0;34m\u001b[0m\u001b[0;34m\u001b[0m\u001b[0m\n\u001b[0;32m---> 18\u001b[0;31m     \u001b[0mregistration_method\u001b[0m\u001b[0;34m.\u001b[0m\u001b[0mAddCommand\u001b[0m\u001b[0;34m(\u001b[0m\u001b[0msitk\u001b[0m\u001b[0;34m.\u001b[0m\u001b[0msitkIterationEvent\u001b[0m\u001b[0;34m,\u001b[0m \u001b[0;32mlambda\u001b[0m\u001b[0;34m:\u001b[0m \u001b[0msave_plot\u001b[0m\u001b[0;34m(\u001b[0m\u001b[0mregistration_method\u001b[0m\u001b[0;34m,\u001b[0m \u001b[0mfixed_img\u001b[0m\u001b[0;34m,\u001b[0m \u001b[0mmoving_img\u001b[0m\u001b[0;34m,\u001b[0m \u001b[0minitial_transform\u001b[0m\u001b[0;34m,\u001b[0m \u001b[0mos\u001b[0m\u001b[0;34m.\u001b[0m\u001b[0mpath\u001b[0m\u001b[0;34m.\u001b[0m\u001b[0mjoin\u001b[0m\u001b[0;34m(\u001b[0m\u001b[0mpath_to_store_animation\u001b[0m\u001b[0;34m+\u001b[0m\u001b[0;34m'/iteration_plot'\u001b[0m\u001b[0;34m)\u001b[0m\u001b[0;34m)\u001b[0m\u001b[0;34m)\u001b[0m\u001b[0;34m\u001b[0m\u001b[0;34m\u001b[0m\u001b[0m\n\u001b[0m\u001b[1;32m     19\u001b[0m     \u001b[0mfinal_transform\u001b[0m             \u001b[0;34m=\u001b[0m               \u001b[0mregistration_method\u001b[0m\u001b[0;34m.\u001b[0m\u001b[0mExecute\u001b[0m\u001b[0;34m(\u001b[0m\u001b[0msitk\u001b[0m\u001b[0;34m.\u001b[0m\u001b[0mCast\u001b[0m\u001b[0;34m(\u001b[0m\u001b[0mfixed_img\u001b[0m\u001b[0;34m,\u001b[0m \u001b[0msitk\u001b[0m\u001b[0;34m.\u001b[0m\u001b[0msitkFloat32\u001b[0m\u001b[0;34m)\u001b[0m\u001b[0;34m,\u001b[0m\u001b[0msitk\u001b[0m\u001b[0;34m.\u001b[0m\u001b[0mCast\u001b[0m\u001b[0;34m(\u001b[0m\u001b[0mmoving_img\u001b[0m\u001b[0;34m,\u001b[0m \u001b[0msitk\u001b[0m\u001b[0;34m.\u001b[0m\u001b[0msitkFloat32\u001b[0m\u001b[0;34m)\u001b[0m\u001b[0;34m)\u001b[0m\u001b[0;34m\u001b[0m\u001b[0;34m\u001b[0m\u001b[0m\n\u001b[1;32m     20\u001b[0m     \u001b[0mtfm_file_name\u001b[0m               \u001b[0;34m=\u001b[0m               \u001b[0mstr\u001b[0m\u001b[0;34m(\u001b[0m\u001b[0mi\u001b[0m\u001b[0;34m+\u001b[0m\u001b[0;36m1\u001b[0m\u001b[0;34m)\u001b[0m\u001b[0;34m+\u001b[0m\u001b[0;34m'->'\u001b[0m\u001b[0;34m+\u001b[0m\u001b[0mstr\u001b[0m\u001b[0;34m(\u001b[0m\u001b[0;36m1\u001b[0m\u001b[0;34m)\u001b[0m\u001b[0;34m+\u001b[0m\u001b[0;34m'.tfm'\u001b[0m\u001b[0;34m\u001b[0m\u001b[0;34m\u001b[0m\u001b[0m\n",
      "\u001b[0;32m<ipython-input-60-bf076de6cf97>\u001b[0m in \u001b[0;36msave_plot\u001b[0;34m(registration_method, fixed, moving, transform, file_name_prefix)\u001b[0m\n\u001b[1;32m    122\u001b[0m     moving_transformed = sitk.Resample(moving, fixed, transform, \n\u001b[1;32m    123\u001b[0m                                        \u001b[0msitk\u001b[0m\u001b[0;34m.\u001b[0m\u001b[0msitkLinear\u001b[0m\u001b[0;34m,\u001b[0m \u001b[0;36m0.0\u001b[0m\u001b[0;34m,\u001b[0m\u001b[0;34m\u001b[0m\u001b[0;34m\u001b[0m\u001b[0m\n\u001b[0;32m--> 124\u001b[0;31m                                        moving_image.GetPixelIDValue())\n\u001b[0m\u001b[1;32m    125\u001b[0m     \u001b[0;31m# Extract the central slice in xy and alpha blend them\u001b[0m\u001b[0;34m\u001b[0m\u001b[0;34m\u001b[0m\u001b[0;34m\u001b[0m\u001b[0m\n\u001b[1;32m    126\u001b[0m     \u001b[0mcombined\u001b[0m \u001b[0;34m=\u001b[0m \u001b[0;34m(\u001b[0m\u001b[0;36m1.0\u001b[0m \u001b[0;34m-\u001b[0m \u001b[0malpha\u001b[0m\u001b[0;34m)\u001b[0m\u001b[0;34m*\u001b[0m\u001b[0mfixed\u001b[0m\u001b[0;34m[\u001b[0m\u001b[0;34m:\u001b[0m\u001b[0;34m,\u001b[0m\u001b[0;34m:\u001b[0m\u001b[0;34m,\u001b[0m\u001b[0mcentral_index\u001b[0m\u001b[0;34m]\u001b[0m \u001b[0;34m+\u001b[0m\u001b[0;31m \u001b[0m\u001b[0;31m\\\u001b[0m\u001b[0;34m\u001b[0m\u001b[0;34m\u001b[0m\u001b[0m\n",
      "\u001b[0;31mNameError\u001b[0m: name 'moving_image' is not defined"
     ]
    },
    {
     "name": "stderr",
     "output_type": "stream",
     "text": [
      "  0%|          | 0/13 [00:02<?, ?it/s]\n"
     ]
    },
    {
     "ename": "RuntimeError",
     "evalue": "Exception thrown in SimpleITK ImageRegistrationMethod_Execute: /Users/runner/runners/2.160.0/work/1/sitk/Wrapping/Python/sitkPyCommand.cxx:135:\nsitk::ERROR: There was an error executing the Python Callable.",
     "output_type": "error",
     "traceback": [
      "\u001b[0;31m---------------------------------------------------------------------------\u001b[0m",
      "\u001b[0;31mRuntimeError\u001b[0m                              Traceback (most recent call last)",
      "\u001b[0;32m<ipython-input-62-32bdde550a39>\u001b[0m in \u001b[0;36m<module>\u001b[0;34m\u001b[0m\n\u001b[1;32m     17\u001b[0m     \u001b[0mregistration_method\u001b[0m\u001b[0;34m.\u001b[0m\u001b[0mSetInitialTransform\u001b[0m\u001b[0;34m(\u001b[0m\u001b[0minitial_transform\u001b[0m\u001b[0;34m)\u001b[0m\u001b[0;34m\u001b[0m\u001b[0;34m\u001b[0m\u001b[0m\n\u001b[1;32m     18\u001b[0m     \u001b[0mregistration_method\u001b[0m\u001b[0;34m.\u001b[0m\u001b[0mAddCommand\u001b[0m\u001b[0;34m(\u001b[0m\u001b[0msitk\u001b[0m\u001b[0;34m.\u001b[0m\u001b[0msitkIterationEvent\u001b[0m\u001b[0;34m,\u001b[0m \u001b[0;32mlambda\u001b[0m\u001b[0;34m:\u001b[0m \u001b[0msave_plot\u001b[0m\u001b[0;34m(\u001b[0m\u001b[0mregistration_method\u001b[0m\u001b[0;34m,\u001b[0m \u001b[0mfixed_img\u001b[0m\u001b[0;34m,\u001b[0m \u001b[0mmoving_img\u001b[0m\u001b[0;34m,\u001b[0m \u001b[0minitial_transform\u001b[0m\u001b[0;34m,\u001b[0m \u001b[0mos\u001b[0m\u001b[0;34m.\u001b[0m\u001b[0mpath\u001b[0m\u001b[0;34m.\u001b[0m\u001b[0mjoin\u001b[0m\u001b[0;34m(\u001b[0m\u001b[0mpath_to_store_animation\u001b[0m\u001b[0;34m+\u001b[0m\u001b[0;34m'/iteration_plot'\u001b[0m\u001b[0;34m)\u001b[0m\u001b[0;34m)\u001b[0m\u001b[0;34m)\u001b[0m\u001b[0;34m\u001b[0m\u001b[0;34m\u001b[0m\u001b[0m\n\u001b[0;32m---> 19\u001b[0;31m     \u001b[0mfinal_transform\u001b[0m             \u001b[0;34m=\u001b[0m               \u001b[0mregistration_method\u001b[0m\u001b[0;34m.\u001b[0m\u001b[0mExecute\u001b[0m\u001b[0;34m(\u001b[0m\u001b[0msitk\u001b[0m\u001b[0;34m.\u001b[0m\u001b[0mCast\u001b[0m\u001b[0;34m(\u001b[0m\u001b[0mfixed_img\u001b[0m\u001b[0;34m,\u001b[0m \u001b[0msitk\u001b[0m\u001b[0;34m.\u001b[0m\u001b[0msitkFloat32\u001b[0m\u001b[0;34m)\u001b[0m\u001b[0;34m,\u001b[0m\u001b[0msitk\u001b[0m\u001b[0;34m.\u001b[0m\u001b[0mCast\u001b[0m\u001b[0;34m(\u001b[0m\u001b[0mmoving_img\u001b[0m\u001b[0;34m,\u001b[0m \u001b[0msitk\u001b[0m\u001b[0;34m.\u001b[0m\u001b[0msitkFloat32\u001b[0m\u001b[0;34m)\u001b[0m\u001b[0;34m)\u001b[0m\u001b[0;34m\u001b[0m\u001b[0;34m\u001b[0m\u001b[0m\n\u001b[0m\u001b[1;32m     20\u001b[0m     \u001b[0mtfm_file_name\u001b[0m               \u001b[0;34m=\u001b[0m               \u001b[0mstr\u001b[0m\u001b[0;34m(\u001b[0m\u001b[0mi\u001b[0m\u001b[0;34m+\u001b[0m\u001b[0;36m1\u001b[0m\u001b[0;34m)\u001b[0m\u001b[0;34m+\u001b[0m\u001b[0;34m'->'\u001b[0m\u001b[0;34m+\u001b[0m\u001b[0mstr\u001b[0m\u001b[0;34m(\u001b[0m\u001b[0;36m1\u001b[0m\u001b[0;34m)\u001b[0m\u001b[0;34m+\u001b[0m\u001b[0;34m'.tfm'\u001b[0m\u001b[0;34m\u001b[0m\u001b[0;34m\u001b[0m\u001b[0m\n\u001b[1;32m     21\u001b[0m     \u001b[0mprint\u001b[0m\u001b[0;34m(\u001b[0m\u001b[0mfinal_transform\u001b[0m\u001b[0;34m)\u001b[0m\u001b[0;34m\u001b[0m\u001b[0;34m\u001b[0m\u001b[0m\n",
      "\u001b[0;32m~/opt/anaconda3/lib/python3.7/site-packages/SimpleITK/SimpleITK.py\u001b[0m in \u001b[0;36mExecute\u001b[0;34m(self, fixed, moving)\u001b[0m\n\u001b[1;32m  11026\u001b[0m \u001b[0;34m\u001b[0m\u001b[0m\n\u001b[1;32m  11027\u001b[0m         \"\"\"\n\u001b[0;32m> 11028\u001b[0;31m         \u001b[0;32mreturn\u001b[0m \u001b[0m_SimpleITK\u001b[0m\u001b[0;34m.\u001b[0m\u001b[0mImageRegistrationMethod_Execute\u001b[0m\u001b[0;34m(\u001b[0m\u001b[0mself\u001b[0m\u001b[0;34m,\u001b[0m \u001b[0mfixed\u001b[0m\u001b[0;34m,\u001b[0m \u001b[0mmoving\u001b[0m\u001b[0;34m)\u001b[0m\u001b[0;34m\u001b[0m\u001b[0;34m\u001b[0m\u001b[0m\n\u001b[0m\u001b[1;32m  11029\u001b[0m \u001b[0;34m\u001b[0m\u001b[0m\n\u001b[1;32m  11030\u001b[0m \u001b[0;34m\u001b[0m\u001b[0m\n",
      "\u001b[0;31mRuntimeError\u001b[0m: Exception thrown in SimpleITK ImageRegistrationMethod_Execute: /Users/runner/runners/2.160.0/work/1/sitk/Wrapping/Python/sitkPyCommand.cxx:135:\nsitk::ERROR: There was an error executing the Python Callable."
     ]
    },
    {
     "data": {
      "image/png": "[encoded data removed]",
      "text/plain": [
       "<Figure size 432x288 with 1 Axes>"
      ]
     },
     "metadata": {
      "needs_background": "light"
     },
     "output_type": "display_data"
    }
   ],
   "source": [
    "# Registration cycle \n",
    "\n",
    "os.chdir(path_of_mr_navigators) # go to the path of the mr navigators \n",
    "mr_nav_files                    =               (glob.glob(wild_card_string))\n",
    "mr_nav_files                    =               (natsort.natsorted(mr_nav_files))\n",
    "path_fixed_image                =               os.path.join(path_of_mr_navigators,mr_nav_files[0])\n",
    "for i in tqdm(range(1,(len(mr_nav_files)))):\n",
    "    time.sleep(0.5)\n",
    "    print('Processing '+mr_nav_files[i]+'...')\n",
    "    path_moving_image           =               os.path.join(path_of_mr_navigators,mr_nav_files[i])\n",
    "    fixed_image                 =               sitk.ReadImage(path_fixed_image)\n",
    "    moving_image                  =               sitk.ReadImage(path_moving_image)\n",
    "    initial_transform           =               sitk.CenteredTransformInitializer(fixed_image, \n",
    "                                                                                  moving_image, \n",
    "                                                                                  sitk.Euler3DTransform(), \n",
    "                                                                                  sitk.CenteredTransformInitializerFilter.GEOMETRY)\n",
    "    registration_method.SetInitialTransform(initial_transform)\n",
    "    registration_method.AddCommand(sitk.sitkIterationEvent, lambda: save_plot(registration_method, fixed_image, moving_img, initial_transform, os.path.join(path_to_store_animation+'/iteration_plot')))\n",
    "    final_transform             =               registration_method.Execute(sitk.Cast(fixed_image, sitk.sitkFloat32),sitk.Cast(moving_img, sitk.sitkFloat32))\n",
    "    tfm_file_name               =               str(i+1)+'->'+str(1)+'.tfm'\n",
    "    print(final_transform)\n",
    "    sitk.WriteTransform(final_transform, os.path.join(path_of_tfms, tfm_file_name))\n",
    "    \n",
    "    wild_card_png               =               '*png'\n",
    "    png_files                   =               (glob.glob(wild_card_png))\n",
    "    png_files                   =               (natsort.natsorted(png_files))\n",
    "    images                      =               []\n",
    "    for x in range(0,(len(png_files))):\n",
    "        images.append(imageio.imread(os.path.join(path_to_store_animation,png_files[x])))\n",
    "        gif_name=tfm_file_name+'_reg_animation.gif'\n",
    "        imageio.mimsave(os.path.join(path_to_store_animation,gif_name),images)                                   "
   ]
  },
  {
   "cell_type": "code",
   "execution_count": 35,
   "metadata": {},
   "outputs": [
    {
     "data": {
      "text/plain": [
       "(-0.005249778793494092,\n",
       " -0.003641041902782875,\n",
       " -0.005073424726456351,\n",
       " -3.893819913489545,\n",
       " 0.03068188834053176,\n",
       " -2.6729308665086844)"
      ]
     },
     "execution_count": 35,
     "metadata": {},
     "output_type": "execute_result"
    }
   ],
   "source": []
  }
 ],
 "metadata": {
  "kernelspec": {
   "display_name": "Python 3",
   "language": "python",
   "name": "python3"
  },
  "language_info": {
   "codemirror_mode": {
    "name": "ipython",
    "version": 3
   },
   "file_extension": ".py",
   "mimetype": "text/x-python",
   "name": "python",
   "nbconvert_exporter": "python",
   "pygments_lexer": "ipython3",
   "version": "3.7.4"
  }
 },
 "nbformat": 4,
 "nbformat_minor": 4
}
