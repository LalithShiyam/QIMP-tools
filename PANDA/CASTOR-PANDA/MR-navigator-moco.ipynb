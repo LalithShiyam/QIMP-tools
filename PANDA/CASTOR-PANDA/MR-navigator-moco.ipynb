{
 "cells": [
  {
   "cell_type": "code",
   "execution_count": 11,
   "metadata": {},
   "outputs": [],
   "source": [
    "# Import necessary libraries\n",
    "import imageio\n",
    "import SimpleITK as sitk\n",
    "import os\n",
    "import time\n",
    "import matplotlib\n",
    "import matplotlib.pyplot as plt\n",
    "import glob\n",
    "import natsort\n",
    "from ipywidgets import interact, fixed\n",
    "from IPython.display import clear_output \n",
    "from tqdm import tqdm\n",
    "%matplotlib inline\n",
    "import numpy as np\n",
    "matplotlib.use('agg')\n",
    "import matplotlib.image as mpimg\n"
   ]
  },
  {
   "cell_type": "code",
   "execution_count": 12,
   "metadata": {},
   "outputs": [],
   "source": [
    "# Input zone hardcoded variables\n",
    "\n",
    "path_of_mr_navigators           =               '/Users/lalith/Documents/GAN/MR-navigators' # change this\n",
    "wild_card_string                =               'Transform_MRnav_*nii'\n",
    "path_of_tfms                    =               '/Users/lalith/Documents/GAN/MR-navigators';\n",
    "path_to_store_animation         =               '/Users/lalith/Documents/GAN/MR-navigators';"
   ]
  },
  {
   "cell_type": "code",
   "execution_count": 13,
   "metadata": {},
   "outputs": [],
   "source": [
    "# Program start\n",
    "\n",
    "\n",
    "# Utility functions borrowed from Simple ITK's notebook\n",
    "\n",
    "from ipywidgets import interact, fixed\n",
    "from IPython.display import clear_output\n",
    "\n",
    "# Paste the two given images together. On the left will be image1 and on the right image2.\n",
    "# image2 is also centered vertically in the combined image.\n",
    "def write_combined_image(image1, image2, horizontal_space, file_name):\n",
    "    combined_image = sitk.Image((image1.GetWidth() + image2.GetWidth() + horizontal_space,\n",
    "                                max(image1.GetHeight(), image2.GetHeight())), \n",
    "                                image1.GetPixelID(), image1.GetNumberOfComponentsPerPixel())\n",
    "    combined_image = sitk.Paste(combined_image, image1, image1.GetSize(), (0, 0), (0, 0))\n",
    "    combined_image = sitk.Paste(combined_image, image2, image2.GetSize(), (0, 0), \n",
    "                                (image1.GetWidth()+horizontal_space, \n",
    "                                 round((combined_image.GetHeight()-image2.GetHeight())/2)))\n",
    "    sitk.WriteImage(combined_image, file_name)\n",
    "\n",
    "\n",
    "# Callback invoked when the StartEvent happens, sets up our new data.\n",
    "def start_plot():\n",
    "    global metric_values, multires_iterations\n",
    "    \n",
    "    metric_values = []\n",
    "    multires_iterations = []\n",
    "\n",
    "\n",
    "# Callback invoked when the EndEvent happens, do cleanup of data and figure.\n",
    "def end_plot():\n",
    "    global metric_values, multires_iterations\n",
    "    \n",
    "    del metric_values\n",
    "    del multires_iterations\n",
    "    # Close figure, we don't want to get a duplicate of the plot latter on.\n",
    "    plt.close()\n",
    "\n",
    "\n",
    "# Callback invoked when the IterationEvent happens, update our data and \n",
    "# save an image that includes a visualization of the registered images and\n",
    "# the metric value plot.    \n",
    "\n",
    "def save_plot(registration_method, fixed, moving, transform, file_name_prefix):\n",
    "\n",
    "    #\n",
    "    # Plotting the similarity metric values, resolution changes are marked with \n",
    "    # a blue star.\n",
    "    #\n",
    "    global metric_values, multires_iterations\n",
    "    \n",
    "    metric_values.append(registration_method.GetMetricValue())                                       \n",
    "    # Plot the similarity metric values\n",
    "    plt.plot(metric_values, 'r')\n",
    "    plt.plot(multires_iterations, [metric_values[index] for index in multires_iterations], 'b*')\n",
    "    plt.xlabel('Iteration Number',fontsize=12)\n",
    "    plt.ylabel('Metric Value',fontsize=12)\n",
    "\n",
    "    # Convert the plot to a SimpleITK image (works with the agg matplotlib backend, doesn't work\n",
    "    # with the default - the relevant method is canvas_tostring_rgb())\n",
    "    plt.gcf().canvas.draw()    \n",
    "    plot_data = np.fromstring(plt.gcf().canvas.tostring_rgb(), dtype=np.uint8, sep='')\n",
    "    plot_data = plot_data.reshape(plt.gcf().canvas.get_width_height()[::-1] + (3,))\n",
    "    plot_image = sitk.GetImageFromArray(plot_data, isVector=True)\n",
    "\n",
    "    \n",
    "    #\n",
    "    # Extract the central axial slice from the two volumes, compose it using the transformation\n",
    "    # and alpha blend it.\n",
    "    #\n",
    "    alpha = 0.5\n",
    "    \n",
    "    central_index = round((fixed.GetSize())[2]/2)\n",
    "    \n",
    "    moving_transformed = sitk.Resample(moving, fixed, transform, \n",
    "                                       sitk.sitkLinear, 0.0, \n",
    "                                       moving_image.GetPixelIDValue())\n",
    "    # Extract the central slice in xy and alpha blend them                                   \n",
    "    combined = (1.0 - alpha)*fixed[:,:,central_index] + \\\n",
    "               alpha*moving_transformed[:,:,central_index]\n",
    "\n",
    "    # Assume the alpha blended images are isotropic and rescale intensity\n",
    "    # Values so that they are in [0,255], convert the grayscale image to\n",
    "    # color (r,g,b).\n",
    "    combined_slices_image = sitk.Cast(sitk.RescaleIntensity(combined), sitk.sitkUInt8)\n",
    "    combined_slices_image = sitk.Compose(combined_slices_image,\n",
    "                                         combined_slices_image,\n",
    "                                         combined_slices_image)\n",
    "    write_combined_image(combined_slices_image, plot_image, 0, \n",
    "                         file_name_prefix + str.format(str(len(metric_values)), '03d') + '.png')\n",
    "    \n",
    "# Callback invoked when the sitkMultiResolutionIterationEvent happens, update the index into the \n",
    "# metric_values list. \n",
    "def update_multires_iterations():\n",
    "    global metric_values, multires_iterations\n",
    "    multires_iterations.append(len(metric_values))\n",
    "\n",
    "\n"
   ]
  },
  {
   "cell_type": "code",
   "execution_count": 16,
   "metadata": {},
   "outputs": [
    {
     "data": {
      "text/plain": [
       "0"
      ]
     },
     "execution_count": 16,
     "metadata": {},
     "output_type": "execute_result"
    }
   ],
   "source": [
    "# Registration module\n",
    "\n",
    "registration_method = sitk.ImageRegistrationMethod()\n",
    "\n",
    "# Similarity metric settings.\n",
    "registration_method.SetMetricAsMattesMutualInformation(numberOfHistogramBins=100)\n",
    "registration_method.SetMetricSamplingStrategy(registration_method.RANDOM)\n",
    "registration_method.SetMetricSamplingPercentage(0.01)\n",
    "\n",
    "\n",
    "registration_method.SetInterpolator(sitk.sitkLinear)\n",
    "\n",
    "# Optimizer settings.\n",
    "registration_method.SetOptimizerAsGradientDescent(learningRate=1.0, numberOfIterations=200, convergenceMinimumValue=1e-6, convergenceWindowSize=10)\n",
    "registration_method.SetOptimizerScalesFromPhysicalShift()\n",
    "\n",
    "# Setup for the multi-resolution framework.            \n",
    "registration_method.SetShrinkFactorsPerLevel(shrinkFactors = [4,2,1])\n",
    "registration_method.SetSmoothingSigmasPerLevel(smoothingSigmas=[2,1,0])\n",
    "registration_method.SmoothingSigmasAreSpecifiedInPhysicalUnitsOn()\n",
    "\n",
    "\n",
    "# Connect all of the observers so that we can perform plotting during registration.\n",
    "registration_method.AddCommand(sitk.sitkStartEvent, start_plot)\n",
    "registration_method.AddCommand(sitk.sitkEndEvent, end_plot)\n",
    "registration_method.AddCommand(sitk.sitkMultiResolutionIterationEvent, update_multires_iterations) \n"
   ]
  },
  {
   "cell_type": "code",
   "execution_count": 17,
   "metadata": {},
   "outputs": [
    {
     "name": "stderr",
     "output_type": "stream",
     "text": [
      "\n",
      "\n",
      "\n",
      "  0%|          | 0/13 [00:00<?, ?it/s]\u001b[A\u001b[A\u001b[A"
     ]
    },
    {
     "name": "stdout",
     "output_type": "stream",
     "text": [
      "Processing Transform_MRnav_2_To_PET.nii...\n"
     ]
    },
    {
     "name": "stderr",
     "output_type": "stream",
     "text": [
      "/Users/lalith/opt/anaconda3/lib/python3.7/site-packages/ipykernel_launcher.py:62: DeprecationWarning: The binary mode of fromstring is deprecated, as it behaves surprisingly on unicode inputs. Use frombuffer instead\n",
      "\n",
      "\n",
      "\n",
      "  8%|▊         | 1/13 [00:10<02:10, 10.91s/it]\u001b[A\u001b[A\u001b[A"
     ]
    },
    {
     "name": "stdout",
     "output_type": "stream",
     "text": [
      "Processing Transform_MRnav_3_To_PET.nii...\n"
     ]
    },
    {
     "name": "stderr",
     "output_type": "stream",
     "text": [
      "\n",
      "\n",
      "\n",
      " 15%|█▌        | 2/13 [00:27<02:17, 12.52s/it]\u001b[A\u001b[A\u001b[A"
     ]
    },
    {
     "name": "stdout",
     "output_type": "stream",
     "text": [
      "Processing Transform_MRnav_4_To_PET.nii...\n"
     ]
    },
    {
     "name": "stderr",
     "output_type": "stream",
     "text": [
      "\n",
      "\n",
      "\n",
      " 23%|██▎       | 3/13 [00:46<02:24, 14.50s/it]\u001b[A\u001b[A\u001b[A"
     ]
    },
    {
     "name": "stdout",
     "output_type": "stream",
     "text": [
      "Processing Transform_MRnav_5_To_PET.nii...\n"
     ]
    },
    {
     "name": "stderr",
     "output_type": "stream",
     "text": [
      "\n",
      "\n",
      "\n",
      " 31%|███       | 4/13 [01:10<02:36, 17.39s/it]\u001b[A\u001b[A\u001b[A"
     ]
    },
    {
     "name": "stdout",
     "output_type": "stream",
     "text": [
      "Processing Transform_MRnav_6_To_PET.nii...\n"
     ]
    },
    {
     "name": "stderr",
     "output_type": "stream",
     "text": [
      "\n",
      "\n",
      "\n",
      " 38%|███▊      | 5/13 [01:35<02:37, 19.70s/it]\u001b[A\u001b[A\u001b[A"
     ]
    },
    {
     "name": "stdout",
     "output_type": "stream",
     "text": [
      "Processing Transform_MRnav_7_To_PET.nii...\n"
     ]
    },
    {
     "name": "stderr",
     "output_type": "stream",
     "text": [
      "\n",
      "\n",
      "\n",
      " 46%|████▌     | 6/13 [02:12<02:53, 24.84s/it]\u001b[A\u001b[A\u001b[A"
     ]
    },
    {
     "name": "stdout",
     "output_type": "stream",
     "text": [
      "Processing Transform_MRnav_8_To_PET.nii...\n"
     ]
    },
    {
     "name": "stderr",
     "output_type": "stream",
     "text": [
      "\n",
      "\n",
      "\n",
      " 54%|█████▍    | 7/13 [03:14<03:36, 36.04s/it]\u001b[A\u001b[A\u001b[A"
     ]
    },
    {
     "name": "stdout",
     "output_type": "stream",
     "text": [
      "Processing Transform_MRnav_9_To_PET.nii...\n"
     ]
    },
    {
     "name": "stderr",
     "output_type": "stream",
     "text": [
      "\n",
      "\n",
      "\n",
      " 62%|██████▏   | 8/13 [03:59<03:14, 38.81s/it]\u001b[A\u001b[A\u001b[A"
     ]
    },
    {
     "name": "stdout",
     "output_type": "stream",
     "text": [
      "Processing Transform_MRnav_10_To_PET.nii...\n"
     ]
    },
    {
     "name": "stderr",
     "output_type": "stream",
     "text": [
      "\n",
      "\n",
      "\n",
      " 69%|██████▉   | 9/13 [05:02<03:04, 46.12s/it]\u001b[A\u001b[A\u001b[A"
     ]
    },
    {
     "name": "stdout",
     "output_type": "stream",
     "text": [
      "Processing Transform_MRnav_11_To_PET.nii...\n"
     ]
    },
    {
     "name": "stderr",
     "output_type": "stream",
     "text": [
      "\n",
      "\n",
      "\n",
      " 77%|███████▋  | 10/13 [06:03<02:31, 50.37s/it]\u001b[A\u001b[A\u001b[A"
     ]
    },
    {
     "name": "stdout",
     "output_type": "stream",
     "text": [
      "Processing Transform_MRnav_12_To_PET.nii...\n"
     ]
    },
    {
     "name": "stderr",
     "output_type": "stream",
     "text": [
      "\n",
      "\n",
      "\n",
      " 85%|████████▍ | 11/13 [07:04<01:47, 53.62s/it]\u001b[A\u001b[A\u001b[A"
     ]
    },
    {
     "name": "stdout",
     "output_type": "stream",
     "text": [
      "Processing Transform_MRnav_13_To_PET.nii...\n"
     ]
    },
    {
     "name": "stderr",
     "output_type": "stream",
     "text": [
      "\n",
      "\n",
      "\n",
      " 92%|█████████▏| 12/13 [08:02<00:55, 55.02s/it]\u001b[A\u001b[A\u001b[A"
     ]
    },
    {
     "name": "stdout",
     "output_type": "stream",
     "text": [
      "Processing Transform_MRnav_14_To_PET.nii...\n"
     ]
    },
    {
     "name": "stderr",
     "output_type": "stream",
     "text": [
      "\n",
      "\n",
      "\n",
      "100%|██████████| 13/13 [09:12<00:00, 42.52s/it]\u001b[A\u001b[A\u001b[A\n"
     ]
    }
   ],
   "source": [
    "# Registration cycle \n",
    "\n",
    "os.chdir(path_of_mr_navigators) # go to the path of the mr navigators \n",
    "mr_nav_files                    =               (glob.glob(wild_card_string))\n",
    "mr_nav_files                    =               (natsort.natsorted(mr_nav_files))\n",
    "path_fixed_image                =               os.path.join(path_of_mr_navigators,mr_nav_files[0])\n",
    "for i in tqdm(range(1,(len(mr_nav_files)))):\n",
    "    time.sleep(0.5)\n",
    "    print('Processing '+mr_nav_files[i]+'...')\n",
    "    path_moving_image           =               os.path.join(path_of_mr_navigators,mr_nav_files[i])\n",
    "    fixed_image                 =               sitk.ReadImage(path_fixed_image,sitk.sitkFloat32)\n",
    "    moving_image                =               sitk.ReadImage(path_moving_image,sitk.sitkFloat32)\n",
    "    initial_transform           =               sitk.CenteredTransformInitializer(fixed_image, \n",
    "                                                                                  moving_image, \n",
    "                                                                                  sitk.Euler3DTransform())\n",
    "                                                                                  \n",
    "    registration_method.SetInitialTransform(initial_transform)\n",
    "    registration_method.AddCommand(sitk.sitkIterationEvent, lambda: save_plot(registration_method, fixed_image, moving_image, initial_transform, os.path.join(path_to_store_animation+'/iteration_plot')))\n",
    "    final_transform             =               registration_method.Execute(fixed_image,moving_image)\n",
    "    tfm_file_name               =               str(i+1)+'->'+str(1)+'.tfm'\n",
    "    sitk.WriteTransform(final_transform, os.path.join(path_of_tfms, tfm_file_name))\n",
    "    wild_card_png               =               '*png'\n",
    "    png_files                   =               (glob.glob(wild_card_png))\n",
    "    png_files                   =               (natsort.natsorted(png_files))\n",
    "    images                      =               []\n",
    "    #for x in range(0,(len(png_files))):\n",
    "    #    images.append(imageio.imread(os.path.join(path_to_store_animation,png_files[x])))\n",
    "    #    os.remove((os.path.join(path_to_store_animation,png_files[x])))\n",
    "    #    gif_name=tfm_file_name+'_reg_animation.gif'\n",
    "    #    imageio.mimsave(os.path.join(path_to_store_animation,gif_name),images,loop=1)"
   ]
  },
  {
   "cell_type": "code",
   "execution_count": null,
   "metadata": {},
   "outputs": [],
   "source": []
  },
  {
   "cell_type": "code",
   "execution_count": null,
   "metadata": {},
   "outputs": [],
   "source": []
  }
 ],
 "metadata": {
  "kernelspec": {
   "display_name": "Python 3",
   "language": "python",
   "name": "python3"
  },
  "language_info": {
   "codemirror_mode": {
    "name": "ipython",
    "version": 3
   },
   "file_extension": ".py",
   "mimetype": "text/x-python",
   "name": "python",
   "nbconvert_exporter": "python",
   "pygments_lexer": "ipython3",
   "version": "3.7.4"
  }
 },
 "nbformat": 4,
 "nbformat_minor": 4
}
